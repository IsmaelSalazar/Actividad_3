{
 "cells": [
  {
   "cell_type": "code",
   "execution_count": 3,
   "id": "ac3ff092",
   "metadata": {
    "scrolled": false
   },
   "outputs": [
    {
     "name": "stdout",
     "output_type": "stream",
     "text": [
      "Triangular Inferior\t\tTranspuesta\n",
      "2\t0\t0\t\t2\t3\t5\t\n",
      "3\t4\t0\t\t0\t4\t1\t\n",
      "5\t1\t6\t\t0\t0\t6\t\n"
     ]
    }
   ],
   "source": [
    "import numpy as np\n",
    "import math \n",
    "MAX = 100; \n",
    "  \n",
    "def Cholesky_Decomposition(matrix, n): \n",
    "  \n",
    "    lower = [[0 for x in range(n + 1)]  \n",
    "                for y in range(n + 1)]; \n",
    "  \n",
    " #Descomponemos la matriz en una triangular inferior  \n",
    "    for i in range(n):  \n",
    "        for j in range(i + 1):  \n",
    "            sum1 = 0; \n",
    "  \n",
    "            # sum1mation for diagnols \n",
    "            if (j == i):  \n",
    "                for k in range(j): \n",
    "                    sum1 += pow(lower[j][k], 2); \n",
    "                lower[j][j] = int(math.sqrt(matrix[j][j] - sum1)); \n",
    "            else: \n",
    "                  \n",
    "                # Evaluating L(i, j) \n",
    "                # using L(j, j) \n",
    "                for k in range(j): \n",
    "                    sum1 += (lower[i][k] *lower[j][k]); \n",
    "                if(lower[j][j] > 0): \n",
    "                    lower[i][j] = int((matrix[i][j] - sum1) / \n",
    "                                               lower[j][j]); \n",
    "  \n",
    " #Sacamos la transpuesta de la matriz triangular inferior\n",
    "    print(\"Triangular Inferior\\t\\tTranspuesta\"); \n",
    "    for i in range(n):  \n",
    "          \n",
    " #Triangular Inferior\n",
    "        for j in range(n): \n",
    "            print(lower[i][j], end = \"\\t\"); \n",
    "        print(\"\", end = \"\\t\"); \n",
    "          \n",
    "#Transpuesta \n",
    "        for j in range(n): \n",
    "            print(lower[j][i], end = \"\\t\"); \n",
    "        print(\"\"); \n",
    "  \n",
    " #Datos del Código\n",
    "n = 3; \n",
    "matrix = [[4, 6, 10], \n",
    "          [6, 25, 19], \n",
    "          [10, 19, 62]]; \n",
    "Cholesky_Decomposition(matrix, n); \n"
   ]
  },
  {
   "cell_type": "code",
   "execution_count": 4,
   "id": "2d67bc9e",
   "metadata": {},
   "outputs": [],
   "source": [
    "#Algoritmo Realizado por Ismael Salazar"
   ]
  },
  {
   "cell_type": "code",
   "execution_count": 5,
   "id": "6a1ff046",
   "metadata": {},
   "outputs": [
    {
     "ename": "ValueError",
     "evalue": "math domain error",
     "output_type": "error",
     "traceback": [
      "\u001b[1;31m---------------------------------------------------------------------------\u001b[0m",
      "\u001b[1;31mValueError\u001b[0m                                Traceback (most recent call last)",
      "\u001b[1;32m<ipython-input-5-ee9b348e2374>\u001b[0m in \u001b[0;36m<module>\u001b[1;34m\u001b[0m\n\u001b[0;32m     47\u001b[0m           \u001b[1;33m[\u001b[0m\u001b[1;36m6\u001b[0m\u001b[1;33m,\u001b[0m \u001b[1;36m3\u001b[0m\u001b[1;33m,\u001b[0m \u001b[1;36m19\u001b[0m\u001b[1;33m]\u001b[0m\u001b[1;33m,\u001b[0m\u001b[1;33m\u001b[0m\u001b[1;33m\u001b[0m\u001b[0m\n\u001b[0;32m     48\u001b[0m           [10, 19, 62]]; \n\u001b[1;32m---> 49\u001b[1;33m \u001b[0mCholesky_Decomposition\u001b[0m\u001b[1;33m(\u001b[0m\u001b[0mmatrix\u001b[0m\u001b[1;33m,\u001b[0m \u001b[0mn\u001b[0m\u001b[1;33m)\u001b[0m\u001b[1;33m;\u001b[0m\u001b[1;33m\u001b[0m\u001b[1;33m\u001b[0m\u001b[0m\n\u001b[0m",
      "\u001b[1;32m<ipython-input-5-ee9b348e2374>\u001b[0m in \u001b[0;36mCholesky_Decomposition\u001b[1;34m(matrix, n)\u001b[0m\n\u001b[0;32m     17\u001b[0m                 \u001b[1;32mfor\u001b[0m \u001b[0mk\u001b[0m \u001b[1;32min\u001b[0m \u001b[0mrange\u001b[0m\u001b[1;33m(\u001b[0m\u001b[0mj\u001b[0m\u001b[1;33m)\u001b[0m\u001b[1;33m:\u001b[0m\u001b[1;33m\u001b[0m\u001b[1;33m\u001b[0m\u001b[0m\n\u001b[0;32m     18\u001b[0m                     \u001b[0msum1\u001b[0m \u001b[1;33m+=\u001b[0m \u001b[0mpow\u001b[0m\u001b[1;33m(\u001b[0m\u001b[0mlower\u001b[0m\u001b[1;33m[\u001b[0m\u001b[0mj\u001b[0m\u001b[1;33m]\u001b[0m\u001b[1;33m[\u001b[0m\u001b[0mk\u001b[0m\u001b[1;33m]\u001b[0m\u001b[1;33m,\u001b[0m \u001b[1;36m2\u001b[0m\u001b[1;33m)\u001b[0m\u001b[1;33m;\u001b[0m\u001b[1;33m\u001b[0m\u001b[1;33m\u001b[0m\u001b[0m\n\u001b[1;32m---> 19\u001b[1;33m                 \u001b[0mlower\u001b[0m\u001b[1;33m[\u001b[0m\u001b[0mj\u001b[0m\u001b[1;33m]\u001b[0m\u001b[1;33m[\u001b[0m\u001b[0mj\u001b[0m\u001b[1;33m]\u001b[0m \u001b[1;33m=\u001b[0m \u001b[0mint\u001b[0m\u001b[1;33m(\u001b[0m\u001b[0mmath\u001b[0m\u001b[1;33m.\u001b[0m\u001b[0msqrt\u001b[0m\u001b[1;33m(\u001b[0m\u001b[0mmatrix\u001b[0m\u001b[1;33m[\u001b[0m\u001b[0mj\u001b[0m\u001b[1;33m]\u001b[0m\u001b[1;33m[\u001b[0m\u001b[0mj\u001b[0m\u001b[1;33m]\u001b[0m \u001b[1;33m-\u001b[0m \u001b[0msum1\u001b[0m\u001b[1;33m)\u001b[0m\u001b[1;33m)\u001b[0m\u001b[1;33m;\u001b[0m\u001b[1;33m\u001b[0m\u001b[1;33m\u001b[0m\u001b[0m\n\u001b[0m\u001b[0;32m     20\u001b[0m             \u001b[1;32melse\u001b[0m\u001b[1;33m:\u001b[0m\u001b[1;33m\u001b[0m\u001b[1;33m\u001b[0m\u001b[0m\n\u001b[0;32m     21\u001b[0m \u001b[1;33m\u001b[0m\u001b[0m\n",
      "\u001b[1;31mValueError\u001b[0m: math domain error"
     ]
    }
   ],
   "source": [
    "import numpy as np\n",
    "import math \n",
    "MAX = 100; \n",
    "  \n",
    "def Cholesky_Decomposition(matrix, n): \n",
    "  \n",
    "    lower = [[0 for x in range(n + 1)]  \n",
    "                for y in range(n + 1)]; \n",
    "  \n",
    " #Descomponemos la matriz en una triangular inferior  \n",
    "    for i in range(n):  \n",
    "        for j in range(i + 1):  \n",
    "            sum1 = 0; \n",
    "  \n",
    "            # sum1mation for diagnols \n",
    "            if (j == i):  \n",
    "                for k in range(j): \n",
    "                    sum1 += pow(lower[j][k], 2); \n",
    "                lower[j][j] = int(math.sqrt(matrix[j][j] - sum1)); \n",
    "            else: \n",
    "                  \n",
    "                # Evaluating L(i, j) \n",
    "                # using L(j, j) \n",
    "                for k in range(j): \n",
    "                    sum1 += (lower[i][k] *lower[j][k]); \n",
    "                if(lower[j][j] > 0): \n",
    "                    lower[i][j] = int((matrix[i][j] - sum1) / \n",
    "                                               lower[j][j]); \n",
    "  \n",
    " #Sacamos la transpuesta de la matriz triangular inferior\n",
    "    print(\"Triangular Inferior\\t\\tTranspuesta\"); \n",
    "    for i in range(n):  \n",
    "          \n",
    " #Triangular Inferior\n",
    "        for j in range(n): \n",
    "            print(lower[i][j], end = \"\\t\"); \n",
    "        print(\"\", end = \"\\t\"); \n",
    "          \n",
    "#Transpuesta \n",
    "        for j in range(n): \n",
    "            print(lower[j][i], end = \"\\t\"); \n",
    "        print(\"\"); \n",
    "  \n",
    " #Datos del Código\n",
    "n = 3; \n",
    "matrix = [[4, 6, 10], \n",
    "          [6, 3, 19], \n",
    "          [10, 19, 62]]; \n",
    "Cholesky_Decomposition(matrix, n); \n"
   ]
  },
  {
   "cell_type": "code",
   "execution_count": null,
   "id": "2339e88d",
   "metadata": {},
   "outputs": [],
   "source": []
  }
 ],
 "metadata": {
  "kernelspec": {
   "display_name": "Python 3",
   "language": "python",
   "name": "python3"
  },
  "language_info": {
   "codemirror_mode": {
    "name": "ipython",
    "version": 3
   },
   "file_extension": ".py",
   "mimetype": "text/x-python",
   "name": "python",
   "nbconvert_exporter": "python",
   "pygments_lexer": "ipython3",
   "version": "3.8.8"
  }
 },
 "nbformat": 4,
 "nbformat_minor": 5
}
