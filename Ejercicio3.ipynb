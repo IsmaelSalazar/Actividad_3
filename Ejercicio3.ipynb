{
 "cells": [
  {
   "cell_type": "markdown",
   "id": "132340c6",
   "metadata": {},
   "source": [
    "# Método de Jacobi"
   ]
  },
  {
   "cell_type": "code",
   "execution_count": 1,
   "id": "f7088516",
   "metadata": {},
   "outputs": [],
   "source": [
    "import numpy as np\n",
    "import matplotlib.pyplot as plt\n",
    "\n",
    "def jacobi(A, b, x0, eps=1e-10, n=500):\n",
    "    D=np.diag(np.diag(A))\n",
    "    LU = A - D\n",
    "    x = x0\n",
    "    for i in range(n):\n",
    "        D_inv = np.linalg.inv(D)\n",
    "        x_anterior = x\n",
    "        \n",
    "#Esta es la ecuación que usaremos para el método\n",
    "        x = (D_inv @ (-LU) @ x) + D_inv @ b\n",
    "        print(\"Iteración : \", i, \" - x:\",x)\n",
    "        if (np.linalg.norm(x - x_anterior) < eps):\n",
    "            return (x) \n",
    "    print (\"No se alcanzó convergencia\")           \n",
    "    return (x)"
   ]
  },
  {
   "cell_type": "code",
   "execution_count": 2,
   "id": "c0061132",
   "metadata": {},
   "outputs": [
    {
     "name": "stdout",
     "output_type": "stream",
     "text": [
      "Iteración :  0  - x: [ 0.42179734 -0.61306834  1.20383448 -0.5432725 ]\n",
      "Iteración :  1  - x: [ 0.84334969 -0.81354279  0.96963121 -0.64431614]\n",
      "Iteración :  2  - x: [ 0.8674009  -0.89149775  1.04975839 -0.89069229]\n",
      "Iteración :  3  - x: [ 0.96037725 -0.95609819  0.99417715 -0.91133982]\n",
      "Iteración :  4  - x: [ 0.967565   -0.97288211  1.01225936 -0.97312895]\n",
      "Iteración :  5  - x: [ 0.99019991 -0.98922786  0.99860901 -0.97810581]\n",
      "Iteración :  6  - x: [ 0.99200693 -0.99330144  1.00302353 -0.99337442]\n",
      "Iteración :  7  - x: [ 0.99758197 -0.99734447  0.99965813 -0.99459887]\n",
      "Iteración :  8  - x: [ 0.99802862 -0.99834746  1.00074578 -0.99836579]\n",
      "Iteración :  9  - x: [ 0.99940355 -0.99934503  0.99991571 -0.99866773]\n",
      "Iteración :  10  - x: [ 0.99951374 -0.99959238  1.00018395 -0.99959691]\n",
      "Iteración :  11  - x: [ 0.99985288 -0.99983844  0.99997921 -0.99967138]\n",
      "Iteración :  12  - x: [ 0.99988006 -0.99989945  1.00004537 -0.99990057]\n",
      "Iteración :  13  - x: [ 0.99996371 -0.99996015  0.99999487 -0.99991894]\n",
      "Iteración :  14  - x: [ 0.99997042 -0.9999752   1.00001119 -0.99997548]\n",
      "x:  [ 0.99997042 -0.9999752   1.00001119 -0.99997548]\n",
      "b calculado:  [ 2.99985557 -4.99988023  4.00004983 -2.99997281]\n",
      "b verdadero:  [ 3 -5  4 -3]\n",
      "Solución de numpy:  [ 1. -1.  1. -1.]\n"
     ]
    }
   ],
   "source": [
    "A = np.array([[7, 1, -1, 2],\n",
    "              [1, 8, 0, -2],\n",
    "              [-1, 0, 4, -1],\n",
    "              [2, -2, -1, 6]])\n",
    "\n",
    "b = np.array([3, -5, 4, -3])\n",
    "\n",
    "x0 = np.random.rand(4)\n",
    "x = jacobi (A, b, x0, 10**(-4), 500)\n",
    "\n",
    "print (\"x: \", x)\n",
    "print (\"b calculado: \", A @ x)\n",
    "print (\"b verdadero: \", b)\n",
    "print (\"Solución de numpy: \", np.linalg.solve (A,b))"
   ]
  },
  {
   "cell_type": "markdown",
   "id": "a8287143",
   "metadata": {},
   "source": [
    "# Método de Gauss Seidel"
   ]
  },
  {
   "cell_type": "code",
   "execution_count": 25,
   "id": "88cfec8d",
   "metadata": {},
   "outputs": [
    {
     "name": "stdout",
     "output_type": "stream",
     "text": [
      "[[ 0.         -0.14285714  0.14285714 -0.28571429]\n",
      " [-0.125       0.          0.          0.25      ]\n",
      " [ 0.25        0.          0.          0.25      ]\n",
      " [-0.33333333  0.33333333  0.16666667  0.        ]]\n"
     ]
    }
   ],
   "source": [
    "A = np.array([[7, 1, -1, 2],\n",
    "              [1, 8, 0, -2],\n",
    "              [-1, 0, 4, -1],\n",
    "              [2, -2, -1, 6]])\n",
    "\n",
    "D = np.diag(np.diag(A))\n",
    "LU = A - D\n",
    "#Esta es la ecuación que usaremos para el método\n",
    "BJ = np.dot(np.linalg.inv(D), -LU)\n",
    "print (BJ)"
   ]
  },
  {
   "cell_type": "code",
   "execution_count": 26,
   "id": "50023257",
   "metadata": {},
   "outputs": [
    {
     "data": {
      "text/plain": [
       "(array([ 0.49665002, -0.49665002,  0.16476735, -0.16476735]),\n",
       " array([[-0.51557945,  0.47396582,  0.37971893, -0.47940121],\n",
       "        [ 0.48291663, -0.20535789,  0.03530751, -0.77196737],\n",
       "        [ 0.09362379, -0.56322998,  0.8995236 ,  0.31911925],\n",
       "        [ 0.70157249,  0.64494692,  0.21312956,  0.26907947]]))"
      ]
     },
     "execution_count": 26,
     "metadata": {},
     "output_type": "execute_result"
    }
   ],
   "source": [
    "np.linalg.eig(BJ)"
   ]
  },
  {
   "cell_type": "code",
   "execution_count": 3,
   "id": "3dcfed82",
   "metadata": {},
   "outputs": [
    {
     "name": "stdout",
     "output_type": "stream",
     "text": [
      "Iteración :  0  - x: [ 0.21420057 -0.52183329  1.41684271 -0.44592551]\n",
      "Iteración :  1  - x: [ 0.83293243 -0.76325645  0.94206877 -0.50920417]\n",
      "Iteración :  2  - x: [ 0.81767622 -0.8564176   1.08093207 -0.8750515 ]\n",
      "Iteración :  3  - x: [ 0.95535038 -0.9459724   0.98565618 -0.87787593]\n",
      "Iteración :  4  - x: [ 0.95534006 -0.96388778  1.01936861 -0.96949823]\n",
      "Iteración :  5  - x: [ 0.98889326 -0.98679207  0.99646046 -0.96984785]\n",
      "Iteración :  6  - x: [ 0.9889926  -0.99107362  1.00476135 -0.99248503]\n",
      "Iteración :  7  - x: [ 0.99725786 -0.99674533  0.99912689 -0.99256185]\n",
      "Iteración :  8  - x: [ 0.99728513 -0.99779769  1.001174   -0.99814658]\n",
      "Iteración :  9  - x: [ 0.99932355 -0.99919729  0.99978464 -0.99816527]\n",
      "Iteración :  10  - x: [ 0.99933035 -0.99945676  1.00028957 -0.99954284]\n",
      "Iteración :  11  - x: [ 0.99983314 -0.999802    0.99994688 -0.99954744]\n",
      "Iteración :  12  - x: [ 0.99983482 -0.999866    1.00007143 -0.99988724]\n",
      "Iteración :  13  - x: [ 0.99995884 -0.99995116  0.9999869  -0.99988837]\n",
      "Iteración :  14  - x: [ 0.99995926 -0.99996695  1.00001762 -0.99997219]\n",
      "Iteración :  15  - x: [ 0.99998985 -0.99998795  0.99999677 -0.99997247]\n",
      "Iteración :  16  - x: [ 0.99998995 -0.99999185  1.00000435 -0.99999314]\n",
      "Iteración :  17  - x: [ 0.9999975  -0.99999703  0.9999992  -0.99999321]\n",
      "Iteración :  18  - x: [ 0.99999752 -0.99999799  1.00000107 -0.99999831]\n",
      "Iteración :  19  - x: [ 0.99999938 -0.99999927  0.9999998  -0.99999832]\n",
      "Iteración :  20  - x: [ 0.99999939 -0.9999995   1.00000026 -0.99999958]\n",
      "Iteración :  21  - x: [ 0.99999985 -0.99999982  0.99999995 -0.99999959]\n",
      "Iteración :  22  - x: [ 0.99999985 -0.99999988  1.00000007 -0.9999999 ]\n",
      "Iteración :  23  - x: [ 0.99999996 -0.99999996  0.99999999 -0.9999999 ]\n",
      "Iteración :  24  - x: [ 0.99999996 -0.99999997  1.00000002 -0.99999997]\n",
      "Iteración :  25  - x: [ 0.99999999 -0.99999999  1.         -0.99999997]\n",
      "Iteración :  26  - x: [ 0.99999999 -0.99999999  1.         -0.99999999]\n",
      "Iteración :  27  - x: [ 1.         -1.          1.         -0.99999999]\n",
      "Iteración :  28  - x: [ 1. -1.  1. -1.]\n",
      "Iteración :  29  - x: [ 1. -1.  1. -1.]\n",
      "Iteración :  30  - x: [ 1. -1.  1. -1.]\n",
      "Iteración :  31  - x: [ 1. -1.  1. -1.]\n",
      "Iteración :  32  - x: [ 1. -1.  1. -1.]\n",
      "Iteración :  33  - x: [ 1. -1.  1. -1.]\n",
      "Iteración :  34  - x: [ 1. -1.  1. -1.]\n",
      "X:  [ 1. -1.  1. -1.]\n",
      "b calculado :  [ 3. -5.  4. -3.]\n",
      "b verdadero:  [ 3 -5  4 -3]\n",
      "Solucion de numpy:  [ 1. -1.  1. -1.]\n"
     ]
    }
   ],
   "source": [
    "b = np.array([3, -5, 4, -3])\n",
    "x0 = np.random.rand(4) \n",
    "\n",
    "#Utilizamos este comando solo para llamar valores que teniamos ya escritos\n",
    "x = jacobi(A, b, x0)\n",
    "\n",
    "print (\"X: \", x)\n",
    "print (\"b calculado : \", np.dot(A,x))\n",
    "print (\"b verdadero: \", b)\n",
    "print (\"Solucion de numpy: \", np.linalg.solve(A,b))"
   ]
  },
  {
   "cell_type": "markdown",
   "id": "910e631a",
   "metadata": {},
   "source": [
    "# Método SOR"
   ]
  },
  {
   "cell_type": "code",
   "execution_count": 31,
   "id": "44dbcc92",
   "metadata": {},
   "outputs": [
    {
     "name": "stdout",
     "output_type": "stream",
     "text": [
      "iteración:  1\n",
      "x( 0 ):  0.4714285714285714\n",
      "x( 1 ):  -0.7523214285714287\n",
      "x( 2 ):  1.2296428571428573\n",
      "x( 3 ):  -0.7732738095238096\n",
      "  error:  1.7024119273738814\n",
      "\n",
      "iteración:  2\n",
      "x( 0 ):  0.9787661564625854\n",
      "x( 1 ):  -0.9594985012755102\n",
      "x( 2 ):  1.0335461096938776\n",
      "x( 3 ):  -0.9938862067743764\n",
      "  error:  0.6224447998201033\n",
      "\n",
      "iteración:  3\n",
      "x( 0 ):  0.9991089167780206\n",
      "x( 1 ):  -1.0022463327923803\n",
      "x( 2 ):  0.9980816342816144\n",
      "x( 3 ):  -1.0014600045467468\n",
      "  error:  0.05963469146067364\n",
      "\n",
      "iteración:  4\n",
      "x( 0 ):  1.0005995045770888\n",
      "x( 1 ):  -1.0002592998504671\n",
      "x( 2 ):  0.9999551990801825\n",
      "x( 3 ):  -1.0001771080040622\n",
      "  error:  0.0033654450660565317\n",
      "\n",
      "iteración:  5\n",
      "x( 0 ):  1.0000294190326702\n",
      "x( 1 ):  -1.0000268198330626\n",
      "x( 2 ):  0.999963865624849\n",
      "x( 3 ):  -1.0000095347524736\n",
      "  error:  0.0006381225509977897\n",
      "\n",
      "iteración:  6\n",
      "x( 0 ):  0.999998591019468\n",
      "x( 1 ):  -0.999999746338801\n",
      "x( 2 ):  1.0000006039109386\n",
      "x( 3 ):  -0.9999983261724458\n",
      "  error:  5.6202085553607555e-05\n",
      "\n",
      "iteración:  7\n",
      "x( 0 ):  0.9999996698772093\n",
      "x( 1 ):  -0.9999995196716587\n",
      "x( 2 ):  1.000000309127716\n",
      "x( 3 ):  -0.9999998135439256\n",
      "  error:  1.8746954651056462e-06\n",
      "\n",
      "iteración:  8\n",
      "x( 0 ):  0.9999999475088431\n",
      "x( 1 ):  -0.9999999895398797\n",
      "x( 2 ):  1.0000000059275806\n",
      "x( 3 ):  -0.9999999944767494\n",
      "  error:  6.500172905547172e-07\n",
      "\n"
     ]
    }
   ],
   "source": [
    "A = np.array([[7, 1, -1, 2],\n",
    "              [1, 8, 0, -2],\n",
    "              [-1, 0, 4, -1],\n",
    "              [2, -2, -1, 6]])\n",
    "\n",
    "b = np.array([3, -5, 4, -3])\n",
    "\n",
    "# Valores iniciales\n",
    "tol = 0.0SS00001        # valor de la tolerancia establecida\n",
    "error = 100000        # valor inicial de la norma\n",
    "kmax = 100            # número máximo de iteraciones\n",
    "n = len(A)            # determina tamaño de A\n",
    "x = np.zeros(n)       # vector x inicial de ceros\n",
    "x1 = np.copy(x)       # vector auxiliar de x\n",
    "k = 1                 # contador inicial de iteraciones\n",
    "error1=[0]\n",
    "lambd = 1.1\n",
    "\n",
    "while k < kmax and error > tol:\n",
    "    print(\"iteración: \",k)\n",
    "    for i in range(n):\n",
    "        sumatoria = 0\n",
    "        for j in range(n):\n",
    "            if i != j:\n",
    "                sumatoria += (A[i][j] * x[j])\n",
    "        x[i] = (lambd*((b[i]-sumatoria) / A[i][i]))+(1-lambd)*x[i]\n",
    "        print(\"x(\",i,\"): \",x[i])\n",
    "\n",
    "    error = np.linalg.norm(x-x1) # cálculo de la norma vectorial\n",
    "    error1.append(error)         # se genera el vector error para ser graficado\n",
    "    x1 = np.copy(x)              # actualiza vector solución iteración anterior\n",
    "\n",
    "    print(\"  error: \", error1[k])\n",
    "    print()\n",
    "    \n",
    "    k += 1"
   ]
  },
  {
   "cell_type": "code",
   "execution_count": null,
   "id": "0c24b7d0",
   "metadata": {},
   "outputs": [],
   "source": []
  }
 ],
 "metadata": {
  "kernelspec": {
   "display_name": "Python 3",
   "language": "python",
   "name": "python3"
  },
  "language_info": {
   "codemirror_mode": {
    "name": "ipython",
    "version": 3
   },
   "file_extension": ".py",
   "mimetype": "text/x-python",
   "name": "python",
   "nbconvert_exporter": "python",
   "pygments_lexer": "ipython3",
   "version": "3.8.8"
  }
 },
 "nbformat": 4,
 "nbformat_minor": 5
}
