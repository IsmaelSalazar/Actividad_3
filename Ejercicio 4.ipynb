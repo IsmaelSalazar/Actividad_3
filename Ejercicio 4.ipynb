{
 "cells": [
  {
   "cell_type": "markdown",
   "id": "7aaf4567",
   "metadata": {},
   "source": [
    "# Programar un algoritmo para encontrar la norma Frobenius"
   ]
  },
  {
   "cell_type": "code",
   "execution_count": 92,
   "id": "d43a2110",
   "metadata": {},
   "outputs": [
    {
     "name": "stdout",
     "output_type": "stream",
     "text": [
      "La solución encontrada con el código creado es :\n",
      "16.88194\n",
      "La solución que plantea la librería numpy es: \n"
     ]
    },
    {
     "data": {
      "text/plain": [
       "16.881943016134134"
      ]
     },
     "execution_count": 92,
     "metadata": {},
     "output_type": "execute_result"
    }
   ],
   "source": [
    "from math import sqrt\n",
    "row = 3\n",
    "col = 3\n",
    " \n",
    "#Función para el algoritmo de Frobenius\n",
    "#Norma de la matriz\n",
    "def frobeniusNorm(mat):\n",
    " \n",
    " #Almacenamos la suma de los cuadrados de los elementos de la matriz\n",
    "    sumSq = 0\n",
    "    for i in range(row):\n",
    "        for j in range(col):\n",
    "            sumSq += pow(mat[i][j],2)\n",
    " \n",
    "   #Devolvemos la raiz cuadrada obtenida\n",
    "    res = sqrt(sumSq)\n",
    "    return round(res, 5)\n",
    " \n",
    " #Ingresamos la matriz cuadrada con la que vamos a trabajar\n",
    " \n",
    "mat = [ [ 1, 2, 3 ], [ 4, 5, 6 ], [7, 8, 9] ]\n",
    "\n",
    "print (\"La solución encontrada con el código creado es :\")\n",
    "print(frobeniusNorm(mat))\n",
    "\n",
    "print (\"La solución que plantea la librería numpy es: \")\n",
    "np.linalg.norm(mat, 'fro')"
   ]
  },
  {
   "cell_type": "code",
   "execution_count": null,
   "id": "52476717",
   "metadata": {},
   "outputs": [],
   "source": []
  }
 ],
 "metadata": {
  "kernelspec": {
   "display_name": "Python 3",
   "language": "python",
   "name": "python3"
  },
  "language_info": {
   "codemirror_mode": {
    "name": "ipython",
    "version": 3
   },
   "file_extension": ".py",
   "mimetype": "text/x-python",
   "name": "python",
   "nbconvert_exporter": "python",
   "pygments_lexer": "ipython3",
   "version": "3.8.8"
  }
 },
 "nbformat": 4,
 "nbformat_minor": 5
}
