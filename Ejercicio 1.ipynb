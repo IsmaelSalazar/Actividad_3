{
 "cells": [
  {
   "cell_type": "code",
   "execution_count": 39,
   "id": "11ed0fdc",
   "metadata": {},
   "outputs": [],
   "source": [
    "# importando modulos necesarios\n",
    "import matplotlib.pyplot as plt \n",
    "import numpy as np\n",
    "import scipy.linalg as la"
   ]
  },
  {
   "cell_type": "code",
   "execution_count": 14,
   "id": "b71ddace",
   "metadata": {},
   "outputs": [],
   "source": [
    "# Ejemplo factorización LU\n",
    "A = np.array([[0, 0, 0, 6]\n",
    "             ,[0, 0, 6, 3]\n",
    "             ,[0, 7, -2, 4]\n",
    "             ,[21, 9, -3, 5]])\n",
    "\n",
    " \n",
    "P, L, U = la.lu(A)\n",
    "b = np.array([12, -12, 14, -2])\n",
    "\n",
    "X = np.linalg.inv(A).dot(b)\n",
    "\n"
   ]
  },
  {
   "cell_type": "code",
   "execution_count": 41,
   "id": "0c233427",
   "metadata": {},
   "outputs": [
    {
     "data": {
      "text/plain": [
       "array([[ 0,  0,  0,  6],\n",
       "       [ 0,  0,  6,  3],\n",
       "       [ 0,  7, -2,  4],\n",
       "       [21,  9, -3,  5]])"
      ]
     },
     "execution_count": 41,
     "metadata": {},
     "output_type": "execute_result"
    }
   ],
   "source": [
    "# Matriz A\n",
    "A"
   ]
  },
  {
   "cell_type": "code",
   "execution_count": 42,
   "id": "63aa2e4d",
   "metadata": {},
   "outputs": [
    {
     "data": {
      "text/plain": [
       "array([[0., 0., 0., 1.],\n",
       "       [0., 0., 1., 0.],\n",
       "       [0., 1., 0., 0.],\n",
       "       [1., 0., 0., 0.]])"
      ]
     },
     "execution_count": 42,
     "metadata": {},
     "output_type": "execute_result"
    }
   ],
   "source": [
    "# Matriz de permutación\n",
    "P"
   ]
  },
  {
   "cell_type": "code",
   "execution_count": 43,
   "id": "745691ea",
   "metadata": {},
   "outputs": [
    {
     "data": {
      "text/plain": [
       "array([[1., 0., 0., 0.],\n",
       "       [0., 1., 0., 0.],\n",
       "       [0., 0., 1., 0.],\n",
       "       [0., 0., 0., 1.]])"
      ]
     },
     "execution_count": 43,
     "metadata": {},
     "output_type": "execute_result"
    }
   ],
   "source": [
    "# Matriz triangular inferior\n",
    "L"
   ]
  },
  {
   "cell_type": "code",
   "execution_count": 44,
   "id": "7c8394d5",
   "metadata": {},
   "outputs": [
    {
     "data": {
      "text/plain": [
       "array([[21.,  9., -3.,  5.],\n",
       "       [ 0.,  7., -2.,  4.],\n",
       "       [ 0.,  0.,  6.,  3.],\n",
       "       [ 0.,  0.,  0.,  6.]])"
      ]
     },
     "execution_count": 44,
     "metadata": {},
     "output_type": "execute_result"
    }
   ],
   "source": [
    "# Matriz triangular superior\n",
    "U"
   ]
  },
  {
   "cell_type": "code",
   "execution_count": 15,
   "id": "10ed2333",
   "metadata": {},
   "outputs": [
    {
     "name": "stdout",
     "output_type": "stream",
     "text": [
      "[-1.00000000e+00  2.22044605e-16 -3.00000000e+00  2.00000000e+00]\n"
     ]
    }
   ],
   "source": [
    "# Valores de X\n",
    "print (X)"
   ]
  },
  {
   "cell_type": "code",
   "execution_count": null,
   "id": "afbe6c89",
   "metadata": {},
   "outputs": [],
   "source": [
    "#Algoritmo Realizado por Ismael Salazar"
   ]
  }
 ],
 "metadata": {
  "kernelspec": {
   "display_name": "Python 3",
   "language": "python",
   "name": "python3"
  },
  "language_info": {
   "codemirror_mode": {
    "name": "ipython",
    "version": 3
   },
   "file_extension": ".py",
   "mimetype": "text/x-python",
   "name": "python",
   "nbconvert_exporter": "python",
   "pygments_lexer": "ipython3",
   "version": "3.8.8"
  }
 },
 "nbformat": 4,
 "nbformat_minor": 5
}
